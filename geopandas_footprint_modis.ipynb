{
 "cells": [
  {
   "cell_type": "markdown",
   "metadata": {},
   "source": [
    "# Manipulacao do metadado das passagens MODIS para geracao do footprint"
   ]
  },
  {
   "cell_type": "code",
   "execution_count": 23,
   "metadata": {},
   "outputs": [],
   "source": [
    "import geopandas as gpd\n",
    "import pandas as pd\n",
    "from shapely import wkt\n",
    "from shapely.geometry import Point, LineString, Polygon\n",
    "%matplotlib inline"
   ]
  },
  {
   "cell_type": "code",
   "execution_count": 2,
   "metadata": {},
   "outputs": [],
   "source": [
    "#https://ladsweb.nascom.nasa.gov/archive/geoMeta/5/AQUA/2011/MYD03_2011-01-01.txt\n",
    "meta_file = \"./MYD03_2021-01-01.txt\""
   ]
  },
  {
   "cell_type": "code",
   "execution_count": null,
   "metadata": {},
   "outputs": [],
   "source": [
    "! head ./MYD03_2021-01-01.txt"
   ]
  },
  {
   "cell_type": "code",
   "execution_count": 3,
   "metadata": {},
   "outputs": [],
   "source": [
    "df_meta = pd.read_csv(meta_file, skiprows=2, parse_dates=[1] )"
   ]
  },
  {
   "cell_type": "code",
   "execution_count": 46,
   "metadata": {},
   "outputs": [
    {
     "data": {
      "text/html": [
       "<div>\n",
       "<style scoped>\n",
       "    .dataframe tbody tr th:only-of-type {\n",
       "        vertical-align: middle;\n",
       "    }\n",
       "\n",
       "    .dataframe tbody tr th {\n",
       "        vertical-align: top;\n",
       "    }\n",
       "\n",
       "    .dataframe thead th {\n",
       "        text-align: right;\n",
       "    }\n",
       "</style>\n",
       "<table border=\"1\" class=\"dataframe\">\n",
       "  <thead>\n",
       "    <tr style=\"text-align: right;\">\n",
       "      <th></th>\n",
       "      <th># GranuleID</th>\n",
       "      <th>StartDateTime</th>\n",
       "      <th>ArchiveSet</th>\n",
       "      <th>OrbitNumber</th>\n",
       "      <th>DayNightFlag</th>\n",
       "      <th>EastBoundingCoord</th>\n",
       "      <th>NorthBoundingCoord</th>\n",
       "      <th>SouthBoundingCoord</th>\n",
       "      <th>WestBoundingCoord</th>\n",
       "      <th>GRingLongitude1</th>\n",
       "      <th>GRingLongitude2</th>\n",
       "      <th>GRingLongitude3</th>\n",
       "      <th>GRingLongitude4</th>\n",
       "      <th>GRingLatitude1</th>\n",
       "      <th>GRingLatitude2</th>\n",
       "      <th>GRingLatitude3</th>\n",
       "      <th>GRingLatitude4</th>\n",
       "      <th>geometry</th>\n",
       "    </tr>\n",
       "  </thead>\n",
       "  <tbody>\n",
       "    <tr>\n",
       "      <th>0</th>\n",
       "      <td>MYD03.A2021001.0000.061.2021001221825.hdf</td>\n",
       "      <td>2021-01-01 00:00:00</td>\n",
       "      <td>61</td>\n",
       "      <td>99269</td>\n",
       "      <td>N</td>\n",
       "      <td>30.948887</td>\n",
       "      <td>-36.884279</td>\n",
       "      <td>-58.797016</td>\n",
       "      <td>-7.970378</td>\n",
       "      <td>3.894500</td>\n",
       "      <td>31.458867</td>\n",
       "      <td>29.949596</td>\n",
       "      <td>-8.145814</td>\n",
       "      <td>-36.872869</td>\n",
       "      <td>-40.811377</td>\n",
       "      <td>-59.136446</td>\n",
       "      <td>-53.228456</td>\n",
       "      <td>POLYGON ((3.89450 -36.87287, 31.45887 -40.8113...</td>\n",
       "    </tr>\n",
       "    <tr>\n",
       "      <th>1</th>\n",
       "      <td>MYD03.A2021001.0005.061.2021001222156.hdf</td>\n",
       "      <td>2021-01-01 00:05:00</td>\n",
       "      <td>61</td>\n",
       "      <td>99269</td>\n",
       "      <td>B</td>\n",
       "      <td>33.682840</td>\n",
       "      <td>-53.224013</td>\n",
       "      <td>-76.633943</td>\n",
       "      <td>-33.162962</td>\n",
       "      <td>-7.902958</td>\n",
       "      <td>30.637085</td>\n",
       "      <td>33.854062</td>\n",
       "      <td>-33.509370</td>\n",
       "      <td>-53.218064</td>\n",
       "      <td>-58.689184</td>\n",
       "      <td>-76.857299</td>\n",
       "      <td>-66.497235</td>\n",
       "      <td>POLYGON ((-7.90296 -53.21806, 30.63708 -58.689...</td>\n",
       "    </tr>\n",
       "    <tr>\n",
       "      <th>2</th>\n",
       "      <td>MYD03.A2021001.0010.061.2021001223130.hdf</td>\n",
       "      <td>2021-01-01 00:10:00</td>\n",
       "      <td>61</td>\n",
       "      <td>99269</td>\n",
       "      <td>D</td>\n",
       "      <td>180.000000</td>\n",
       "      <td>-66.647486</td>\n",
       "      <td>-89.986966</td>\n",
       "      <td>-180.000000</td>\n",
       "      <td>-32.986258</td>\n",
       "      <td>35.379801</td>\n",
       "      <td>171.101903</td>\n",
       "      <td>-82.965109</td>\n",
       "      <td>-66.642580</td>\n",
       "      <td>-76.275133</td>\n",
       "      <td>-84.401142</td>\n",
       "      <td>-70.088429</td>\n",
       "      <td>POLYGON ((-32.98626 -66.64258, 35.37980 -76.27...</td>\n",
       "    </tr>\n",
       "    <tr>\n",
       "      <th>3</th>\n",
       "      <td>MYD03.A2021001.0015.061.2021001222318.hdf</td>\n",
       "      <td>2021-01-01 00:15:00</td>\n",
       "      <td>61</td>\n",
       "      <td>99269</td>\n",
       "      <td>D</td>\n",
       "      <td>-83.005221</td>\n",
       "      <td>-60.596058</td>\n",
       "      <td>-85.579574</td>\n",
       "      <td>168.045095</td>\n",
       "      <td>-83.003274</td>\n",
       "      <td>164.905052</td>\n",
       "      <td>-169.685633</td>\n",
       "      <td>-120.572422</td>\n",
       "      <td>-70.453944</td>\n",
       "      <td>-84.661136</td>\n",
       "      <td>-67.160176</td>\n",
       "      <td>-60.320809</td>\n",
       "      <td>POLYGON ((-83.00327 -70.45394, 164.90505 -84.6...</td>\n",
       "    </tr>\n",
       "    <tr>\n",
       "      <th>4</th>\n",
       "      <td>MYD03.A2021001.0020.061.2021001222037.hdf</td>\n",
       "      <td>2021-01-01 00:20:00</td>\n",
       "      <td>61</td>\n",
       "      <td>99269</td>\n",
       "      <td>D</td>\n",
       "      <td>-121.170993</td>\n",
       "      <td>-45.343292</td>\n",
       "      <td>-67.742343</td>\n",
       "      <td>-169.848404</td>\n",
       "      <td>-121.169438</td>\n",
       "      <td>-170.418772</td>\n",
       "      <td>-169.383552</td>\n",
       "      <td>-137.405631</td>\n",
       "      <td>-60.658358</td>\n",
       "      <td>-67.660765</td>\n",
       "      <td>-49.465724</td>\n",
       "      <td>-45.162291</td>\n",
       "      <td>POLYGON ((-121.16944 -60.65836, -170.41877 -67...</td>\n",
       "    </tr>\n",
       "  </tbody>\n",
       "</table>\n",
       "</div>"
      ],
      "text/plain": [
       "                                 # GranuleID       StartDateTime  ArchiveSet  \\\n",
       "0  MYD03.A2021001.0000.061.2021001221825.hdf 2021-01-01 00:00:00          61   \n",
       "1  MYD03.A2021001.0005.061.2021001222156.hdf 2021-01-01 00:05:00          61   \n",
       "2  MYD03.A2021001.0010.061.2021001223130.hdf 2021-01-01 00:10:00          61   \n",
       "3  MYD03.A2021001.0015.061.2021001222318.hdf 2021-01-01 00:15:00          61   \n",
       "4  MYD03.A2021001.0020.061.2021001222037.hdf 2021-01-01 00:20:00          61   \n",
       "\n",
       "   OrbitNumber DayNightFlag  EastBoundingCoord  NorthBoundingCoord  \\\n",
       "0        99269            N          30.948887          -36.884279   \n",
       "1        99269            B          33.682840          -53.224013   \n",
       "2        99269            D         180.000000          -66.647486   \n",
       "3        99269            D         -83.005221          -60.596058   \n",
       "4        99269            D        -121.170993          -45.343292   \n",
       "\n",
       "   SouthBoundingCoord  WestBoundingCoord  GRingLongitude1  GRingLongitude2  \\\n",
       "0          -58.797016          -7.970378         3.894500        31.458867   \n",
       "1          -76.633943         -33.162962        -7.902958        30.637085   \n",
       "2          -89.986966        -180.000000       -32.986258        35.379801   \n",
       "3          -85.579574         168.045095       -83.003274       164.905052   \n",
       "4          -67.742343        -169.848404      -121.169438      -170.418772   \n",
       "\n",
       "   GRingLongitude3  GRingLongitude4  GRingLatitude1  GRingLatitude2  \\\n",
       "0        29.949596        -8.145814      -36.872869      -40.811377   \n",
       "1        33.854062       -33.509370      -53.218064      -58.689184   \n",
       "2       171.101903       -82.965109      -66.642580      -76.275133   \n",
       "3      -169.685633      -120.572422      -70.453944      -84.661136   \n",
       "4      -169.383552      -137.405631      -60.658358      -67.660765   \n",
       "\n",
       "   GRingLatitude3  GRingLatitude4  \\\n",
       "0      -59.136446      -53.228456   \n",
       "1      -76.857299      -66.497235   \n",
       "2      -84.401142      -70.088429   \n",
       "3      -67.160176      -60.320809   \n",
       "4      -49.465724      -45.162291   \n",
       "\n",
       "                                            geometry  \n",
       "0  POLYGON ((3.89450 -36.87287, 31.45887 -40.8113...  \n",
       "1  POLYGON ((-7.90296 -53.21806, 30.63708 -58.689...  \n",
       "2  POLYGON ((-32.98626 -66.64258, 35.37980 -76.27...  \n",
       "3  POLYGON ((-83.00327 -70.45394, 164.90505 -84.6...  \n",
       "4  POLYGON ((-121.16944 -60.65836, -170.41877 -67...  "
      ]
     },
     "execution_count": 46,
     "metadata": {},
     "output_type": "execute_result"
    }
   ],
   "source": [
    "df_meta.head()"
   ]
  },
  {
   "cell_type": "code",
   "execution_count": 47,
   "metadata": {},
   "outputs": [
    {
     "name": "stdout",
     "output_type": "stream",
     "text": [
      "<class 'pandas.core.frame.DataFrame'>\n",
      "RangeIndex: 288 entries, 0 to 287\n",
      "Data columns (total 18 columns):\n",
      " #   Column              Non-Null Count  Dtype         \n",
      "---  ------              --------------  -----         \n",
      " 0   # GranuleID         288 non-null    object        \n",
      " 1   StartDateTime       288 non-null    datetime64[ns]\n",
      " 2   ArchiveSet          288 non-null    int64         \n",
      " 3   OrbitNumber         288 non-null    int64         \n",
      " 4   DayNightFlag        288 non-null    object        \n",
      " 5   EastBoundingCoord   288 non-null    float64       \n",
      " 6   NorthBoundingCoord  288 non-null    float64       \n",
      " 7   SouthBoundingCoord  288 non-null    float64       \n",
      " 8   WestBoundingCoord   288 non-null    float64       \n",
      " 9   GRingLongitude1     288 non-null    float64       \n",
      " 10  GRingLongitude2     288 non-null    float64       \n",
      " 11  GRingLongitude3     288 non-null    float64       \n",
      " 12  GRingLongitude4     288 non-null    float64       \n",
      " 13  GRingLatitude1      288 non-null    float64       \n",
      " 14  GRingLatitude2      288 non-null    float64       \n",
      " 15  GRingLatitude3      288 non-null    float64       \n",
      " 16  GRingLatitude4      288 non-null    float64       \n",
      " 17  geometry            288 non-null    geometry      \n",
      "dtypes: datetime64[ns](1), float64(12), geometry(1), int64(2), object(2)\n",
      "memory usage: 40.6+ KB\n"
     ]
    }
   ],
   "source": [
    "df_meta.info()"
   ]
  },
  {
   "cell_type": "code",
   "execution_count": null,
   "metadata": {},
   "outputs": [],
   "source": [
    "from itertools import chain\n",
    "\n",
    "df_new =df_poly.groupby('poly_ID').agg(list).apply(lambda x: tuple(chain.from_iterable(zip(x['lon'], x['lat']))), axis=1).reset_index(name='geometry')\n",
    "df_new['geometry']=df_new.apply(lambda x: 'POLYGON ('+str(x['geometry'])+')',axis=1 )\n",
    "df_new"
   ]
  },
  {
   "cell_type": "code",
   "execution_count": null,
   "metadata": {},
   "outputs": [],
   "source": [
    "#https://stackoverflow.com/questions/53761004/how-do-i-import-a-csv-file-with-a-column-of-coordinates-for-polygons-to-a-geoda?rq=1\n",
    "from shapely import wkt\n",
    "df['geometry'] = df['geometry'].apply(wkt.loads)\n",
    "df1 = gpd.GeoDataFrame(df, geometry = 'geometry')"
   ]
  },
  {
   "cell_type": "code",
   "execution_count": 32,
   "metadata": {},
   "outputs": [],
   "source": [
    "df_meta['geome qtry'] = \"Polygon((\" + df_meta[\"GRingLongitude1\"].astype(str) +\" \"+ df_meta[\"GRingLatitude1\"].astype(str)+\", \"+ \\\n",
    "df_meta[\"GRingLongitude2\"].astype(str) +\" \"+ df_meta[\"GRingLatitude2\"].astype(str)+\", \" +\\\n",
    "df_meta[\"GRingLongitude3\"].astype(str) +\" \"+ df_meta[\"GRingLatitude3\"].astype(str)+\", \"+ \\\n",
    "df_meta[\"GRingLongitude4\"].astype(str) +\" \"+ df_meta[\"GRingLatitude4\"].astype(str)+\", \"+ \\\n",
    "df_meta[\"GRingLongitude1\"].astype(str) +\" \"+ df_meta[\"GRingLatitude1\"].astype(str)+ \")) \""
   ]
  },
  {
   "cell_type": "code",
   "execution_count": 33,
   "metadata": {},
   "outputs": [],
   "source": [
    "df_meta['geometry'] = df_meta['geometry'].apply(wkt.loads)\n",
    "gdf = gpd.GeoDataFrame(df_meta, geometry = 'geometry')"
   ]
  },
  {
   "cell_type": "code",
   "execution_count": 40,
   "metadata": {},
   "outputs": [
    {
     "data": {
      "text/plain": [
       "<AxesSubplot:>"
      ]
     },
     "execution_count": 40,
     "metadata": {},
     "output_type": "execute_result"
    },
    {
     "data": {
      "image/png": "[encoded data removed]",
      "text/plain": [
       "<Figure size 432x288 with 1 Axes>"
      ]
     },
     "metadata": {
      "needs_background": "light"
     },
     "output_type": "display_data"
    }
   ],
   "source": [
    "gdf.plot()"
   ]
  },
  {
   "cell_type": "code",
   "execution_count": 45,
   "metadata": {},
   "outputs": [],
   "source": [
    "gdf.to_file(filename=\"saida.gpkg\", driver='GPKG')"
   ]
  },
  {
   "cell_type": "code",
   "execution_count": 44,
   "metadata": {},
   "outputs": [
    {
     "data": {
      "text/plain": [
       "{'AeronavFAA': 'r',\n",
       " 'ARCGEN': 'r',\n",
       " 'BNA': 'raw',\n",
       " 'DXF': 'raw',\n",
       " 'CSV': 'raw',\n",
       " 'OpenFileGDB': 'r',\n",
       " 'ESRIJSON': 'r',\n",
       " 'ESRI Shapefile': 'raw',\n",
       " 'GeoJSON': 'rw',\n",
       " 'GeoJSONSeq': 'rw',\n",
       " 'GPKG': 'rw',\n",
       " 'GML': 'raw',\n",
       " 'GPX': 'raw',\n",
       " 'GPSTrackMaker': 'raw',\n",
       " 'Idrisi': 'r',\n",
       " 'MapInfo File': 'raw',\n",
       " 'DGN': 'raw',\n",
       " 'PCIDSK': 'r',\n",
       " 'S57': 'r',\n",
       " 'SEGY': 'r',\n",
       " 'SUA': 'r',\n",
       " 'TopoJSON': 'r'}"
      ]
     },
     "execution_count": 44,
     "metadata": {},
     "output_type": "execute_result"
    }
   ],
   "source": [
    "import fiona; fiona.supported_drivers"
   ]
  },
  {
   "cell_type": "code",
   "execution_count": null,
   "metadata": {},
   "outputs": [],
   "source": []
  }
 ],
 "metadata": {
  "kernelspec": {
   "display_name": "Python 3",
   "language": "python",
   "name": "python3"
  },
  "language_info": {
   "codemirror_mode": {
    "name": "ipython",
    "version": 3
   },
   "file_extension": ".py",
   "mimetype": "text/x-python",
   "name": "python",
   "nbconvert_exporter": "python",
   "pygments_lexer": "ipython3",
   "version": "3.7.9"
  }
 },
 "nbformat": 4,
 "nbformat_minor": 4
}
